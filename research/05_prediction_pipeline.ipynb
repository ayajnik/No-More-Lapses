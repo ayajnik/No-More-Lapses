{
 "cells": [
  {
   "cell_type": "code",
   "execution_count": 1,
   "metadata": {},
   "outputs": [],
   "source": [
    "from dataclasses import dataclass\n",
    "from pathlib import Path\n",
    "\n",
    "@dataclass(frozen=True)\n",
    "class PredictionPipelineConfig:\n",
    "    test_independent_data_path: Path\n",
    "    test_dependent_data_path: Path\n",
    "    trained_model_path: Path\n",
    "    predictions_output_path: Path"
   ]
  },
  {
   "cell_type": "code",
   "execution_count": 3,
   "metadata": {},
   "outputs": [],
   "source": [
    "import os\n",
    "os.chdir('../')"
   ]
  },
  {
   "cell_type": "code",
   "execution_count": 6,
   "metadata": {},
   "outputs": [],
   "source": [
    "from src.No_More_Lapses.constants import *\n",
    "from src.No_More_Lapses.utils.common import read_yaml, create_directories"
   ]
  },
  {
   "cell_type": "code",
   "execution_count": 10,
   "metadata": {},
   "outputs": [],
   "source": [
    "class ConfigurationManager:\n",
    "    def __init__(\n",
    "        self,\n",
    "        config_filepath = CONFIG_FILE_PATH,\n",
    "        params_filepath = PARAMS_FILE_PATH):\n",
    "\n",
    "        self.config = read_yaml(config_filepath)\n",
    "        self.params = read_yaml(params_filepath)\n",
    "\n",
    "        create_directories([self.config.artifacts_root])\n",
    "\n",
    "    \n",
    "    def get_prediction_pipeline_config(self) -> PredictionPipelineConfig:\n",
    "        config = self.config.prediction_pipeline\n",
    "\n",
    "        \n",
    "        data_transformation_config = PredictionPipelineConfig(\n",
    "            test_independent_data_path = config.test_independent_data_path,\n",
    "            test_dependent_data_path = config.test_dependent_data_path,\n",
    "            trained_model_path = config.trained_model_path,\n",
    "            predictions_output_path=config.predictions_output_path\n",
    "        )\n",
    "\n",
    "        return data_transformation_config"
   ]
  },
  {
   "cell_type": "code",
   "execution_count": null,
   "metadata": {},
   "outputs": [],
   "source": [
    "import pandas as pd\n",
    "import numpy as np\n",
    "import tensorflow as tf\n",
    "import mlflow\n",
    "import os\n",
    "from sklearn.preprocessing import StandardScaler\n",
    "from src.No_More_Lapses import logger\n",
    "from src.No_More_Lapses.components.attention_model import AttentionLayer\n",
    "from src.No_More_Lapses.entity.config_entity import PredictionPipelineConfig\n",
    "\n",
    "class PredictionPipeline:\n",
    "    def __init__(self, config: PredictionPipelineConfig):\n",
    "        self.config = config\n",
    "\n",
    "    def run_prediction(self):\n",
    "        # Load test data\n",
    "        X_test = pd.read_csv(self.config.test_independent_data_path)\n",
    "        y_test = pd.read_csv(self.config.test_dependent_data_path)\n",
    "\n",
    "        # Drop index column if present\n",
    "        X_test = X_test.drop(columns=['Unnamed: 0'], errors='ignore')\n",
    "        y_test = y_test.drop(columns=['Unnamed: 0'], errors='ignore')\n",
    "\n",
    "        logger.info(\"Loaded and cleaned test data.\")\n",
    "\n",
    "        # Scale test data\n",
    "        scaler = StandardScaler()\n",
    "        X_scaled = scaler.fit_transform(X_test)  # ⚠️ If you saved the training scaler, load and use it here instead\n",
    "\n",
    "        # Load trained model\n",
    "\n",
    "        model = tf.keras.models.load_model(\n",
    "                self.config.trained_model_path,\n",
    "                compile=False,\n",
    "                custom_objects={\"AttentionLayer\": AttentionLayer}\n",
    "            )\n",
    "\n",
    "        logger.info(\"Trained model loaded.\")\n",
    "\n",
    "        # Predict probabilities\n",
    "        y_pred_probs = model.predict(X_scaled)\n",
    "        y_pred_labels = np.argmax(y_pred_probs, axis=1)\n",
    "\n",
    "        # Add lapse_calculator column to test DataFrame\n",
    "        results = X_test.copy()\n",
    "        results[\"lapse_calculator\"] = y_pred_labels\n",
    "\n",
    "        # Save result\n",
    "        os.makedirs(os.path.dirname(self.config.predictions_output_path), exist_ok=True)\n",
    "        results.to_csv(self.config.predictions_output_path, index=False)\n",
    "        logger.info(f\"Predictions saved to: {self.config.predictions_output_path}\")\n",
    "\n",
    "        # Log as MLflow artifact\n",
    "        with mlflow.start_run(run_name=\"attentionModel_prediction\"):\n",
    "            mlflow.log_artifact(self.config.predictions_output_path)\n"
   ]
  },
  {
   "cell_type": "code",
   "execution_count": 14,
   "metadata": {},
   "outputs": [
    {
     "name": "stdout",
     "output_type": "stream",
     "text": [
      "[2025-03-24 19:47:12,984: INFO: common: yaml file: config/config.yaml loaded successfully]\n",
      "[2025-03-24 19:47:12,987: INFO: common: yaml file: params.yaml loaded successfully]\n",
      "[2025-03-24 19:47:12,988: INFO: common: created directory at: artifacts]\n",
      "[2025-03-24 19:47:13,030: INFO: 3581776736: Loaded and cleaned test data.]\n",
      "Metal device set to: Apple M1\n",
      "\n",
      "systemMemory: 16.00 GB\n",
      "maxCacheSize: 5.33 GB\n",
      "\n"
     ]
    },
    {
     "name": "stderr",
     "output_type": "stream",
     "text": [
      "2025-03-24 19:47:13.064660: I tensorflow/core/common_runtime/pluggable_device/pluggable_device_factory.cc:305] Could not identify NUMA node of platform GPU ID 0, defaulting to 0. Your kernel may not have been built with NUMA support.\n",
      "2025-03-24 19:47:13.065295: I tensorflow/core/common_runtime/pluggable_device/pluggable_device_factory.cc:271] Created TensorFlow device (/job:localhost/replica:0/task:0/device:GPU:0 with 0 MB memory) -> physical PluggableDevice (device: 0, name: METAL, pci bus id: <undefined>)\n"
     ]
    },
    {
     "name": "stdout",
     "output_type": "stream",
     "text": [
      "[2025-03-24 19:47:13,379: INFO: 3581776736: Trained model loaded.]\n",
      "   1/1160 [..............................] - ETA: 3:39"
     ]
    },
    {
     "name": "stderr",
     "output_type": "stream",
     "text": [
      "2025-03-24 19:47:13.422752: W tensorflow/core/platform/profile_utils/cpu_utils.cc:128] Failed to get CPU frequency: 0 Hz\n",
      "2025-03-24 19:47:13.500176: I tensorflow/core/grappler/optimizers/custom_graph_optimizer_registry.cc:113] Plugin optimizer for device_type GPU is enabled.\n"
     ]
    },
    {
     "name": "stdout",
     "output_type": "stream",
     "text": [
      "1160/1160 [==============================] - 3s 2ms/step\n",
      "[2025-03-24 19:47:16,825: INFO: 3581776736: Predictions saved to: artifacts/predictions/lapse_predictions.csv]\n"
     ]
    }
   ],
   "source": [
    "config = ConfigurationManager().get_prediction_pipeline_config()\n",
    "prediction_stage = PredictionPipeline(config=config)\n",
    "prediction_stage.run_prediction()"
   ]
  },
  {
   "cell_type": "code",
   "execution_count": null,
   "metadata": {},
   "outputs": [],
   "source": []
  }
 ],
 "metadata": {
  "kernelspec": {
   "display_name": "Python 3",
   "language": "python",
   "name": "python3"
  },
  "language_info": {
   "codemirror_mode": {
    "name": "ipython",
    "version": 3
   },
   "file_extension": ".py",
   "mimetype": "text/x-python",
   "name": "python",
   "nbconvert_exporter": "python",
   "pygments_lexer": "ipython3",
   "version": "3.8.18"
  }
 },
 "nbformat": 4,
 "nbformat_minor": 2
}
